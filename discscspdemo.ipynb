{
 "cells": [
  {
   "cell_type": "code",
   "execution_count": 1,
   "metadata": {},
   "outputs": [
    {
     "ename": "ModuleNotFoundError",
     "evalue": "No module named 'discscsp'",
     "output_type": "error",
     "traceback": [
      "\u001b[0;31m---------------------------------------------------------------------------\u001b[0m",
      "\u001b[0;31mModuleNotFoundError\u001b[0m                       Traceback (most recent call last)",
      "Cell \u001b[0;32mIn[1], line 3\u001b[0m\n\u001b[1;32m      1\u001b[0m \u001b[38;5;28;01mimport\u001b[39;00m \u001b[38;5;21;01mmath\u001b[39;00m\n\u001b[1;32m      2\u001b[0m \u001b[38;5;28;01mimport\u001b[39;00m \u001b[38;5;21;01mnumpy\u001b[39;00m \u001b[38;5;28;01mas\u001b[39;00m \u001b[38;5;21;01mnp\u001b[39;00m\n\u001b[0;32m----> 3\u001b[0m \u001b[38;5;28;01mimport\u001b[39;00m \u001b[38;5;21;01mpyscsp\u001b[39;00m\u001b[38;5;21;01m.\u001b[39;00m\u001b[38;5;21;01mdiscscsp\u001b[39;00m \u001b[38;5;28;01mas\u001b[39;00m \u001b[38;5;21;01mdiscscsp\u001b[39;00m\n\u001b[1;32m      4\u001b[0m \u001b[38;5;28;01mfrom\u001b[39;00m \u001b[38;5;21;01mmatplotlib\u001b[39;00m \u001b[38;5;28;01mimport\u001b[39;00m pyplot \u001b[38;5;28;01mas\u001b[39;00m plt\n\u001b[1;32m      5\u001b[0m \u001b[38;5;28;01mfrom\u001b[39;00m \u001b[38;5;21;01mimportlib\u001b[39;00m \u001b[38;5;28;01mimport\u001b[39;00m reload\n",
      "File \u001b[0;32m~/Work/GitHub.com-mirror/pyscsp/pyscsp/__init__.py:4\u001b[0m\n\u001b[1;32m      2\u001b[0m \u001b[38;5;28;01mimport\u001b[39;00m \u001b[38;5;21;01mwarnings\u001b[39;00m\n\u001b[1;32m      3\u001b[0m \u001b[38;5;28;01mfrom\u001b[39;00m \u001b[38;5;21;01m.\u001b[39;00m\u001b[38;5;21;01mdiscscsp\u001b[39;00m \u001b[38;5;28;01mimport\u001b[39;00m \u001b[38;5;241m*\u001b[39m\n\u001b[0;32m----> 4\u001b[0m \u001b[38;5;28;01mfrom\u001b[39;00m \u001b[38;5;21;01m.\u001b[39;00m\u001b[38;5;21;01maffscsp\u001b[39;00m \u001b[38;5;28;01mimport\u001b[39;00m \u001b[38;5;241m*\u001b[39m\n\u001b[1;32m      5\u001b[0m \u001b[38;5;28;01mtry\u001b[39;00m:\n\u001b[1;32m      6\u001b[0m     \u001b[38;5;28;01mimport\u001b[39;00m \u001b[38;5;21;01mtorch\u001b[39;00m\n",
      "File \u001b[0;32m~/Work/GitHub.com-mirror/pyscsp/pyscsp/affscsp.py:41\u001b[0m\n\u001b[1;32m     39\u001b[0m \u001b[38;5;28;01mimport\u001b[39;00m \u001b[38;5;21;01mnumpy\u001b[39;00m \u001b[38;5;28;01mas\u001b[39;00m \u001b[38;5;21;01mnp\u001b[39;00m\n\u001b[1;32m     40\u001b[0m \u001b[38;5;28;01mfrom\u001b[39;00m \u001b[38;5;21;01mscipy\u001b[39;00m\u001b[38;5;21;01m.\u001b[39;00m\u001b[38;5;21;01mndimage\u001b[39;00m \u001b[38;5;28;01mimport\u001b[39;00m correlate\n\u001b[0;32m---> 41\u001b[0m \u001b[38;5;28;01mfrom\u001b[39;00m \u001b[38;5;21;01mdiscscsp\u001b[39;00m \u001b[38;5;28;01mimport\u001b[39;00m dirdermask, normgaussder1D_L1norm\n\u001b[1;32m     44\u001b[0m \u001b[38;5;28;01mdef\u001b[39;00m \u001b[38;5;21mCxxCxyCyyfromlambda12phi\u001b[39m(\n\u001b[1;32m     45\u001b[0m     lambda1 : \u001b[38;5;28mfloat\u001b[39m,\n\u001b[1;32m     46\u001b[0m     lambda2 : \u001b[38;5;28mfloat\u001b[39m,\n\u001b[1;32m     47\u001b[0m     phi : \u001b[38;5;28mfloat\u001b[39m\n\u001b[1;32m     48\u001b[0m     ) \u001b[38;5;241m-\u001b[39m\u001b[38;5;241m>\u001b[39m (\u001b[38;5;28mfloat\u001b[39m, \u001b[38;5;28mfloat\u001b[39m, \u001b[38;5;28mfloat\u001b[39m) :\n\u001b[1;32m     49\u001b[0m \u001b[38;5;250m    \u001b[39m\u001b[38;5;124;03m\"\"\"Computes the parameters of spatial covariance matrix Sigma\u001b[39;00m\n\u001b[1;32m     50\u001b[0m \n\u001b[1;32m     51\u001b[0m \u001b[38;5;124;03m    Sigma = [[Cxx, Cxy],\u001b[39;00m\n\u001b[0;32m   (...)\u001b[0m\n\u001b[1;32m     60\u001b[0m \u001b[38;5;124;03m    Biological Cybernetics, 107(6): 589-635. (See Equation (68).)\u001b[39;00m\n\u001b[1;32m     61\u001b[0m \u001b[38;5;124;03m    \"\"\"\u001b[39;00m\n",
      "\u001b[0;31mModuleNotFoundError\u001b[0m: No module named 'discscsp'"
     ]
    }
   ],
   "source": [
    "import math\n",
    "import numpy as np\n",
    "import pyscsp.discscsp as discscsp\n",
    "from matplotlib import pyplot as plt\n",
    "from importlib import reload"
   ]
  },
  {
   "cell_type": "code",
   "execution_count": null,
   "metadata": {},
   "outputs": [],
   "source": [
    "# Create a discrete delta function to illustrate impulse responses\n",
    "delta = discscsp.deltafcn(65,65)"
   ]
  },
  {
   "cell_type": "code",
   "execution_count": null,
   "metadata": {},
   "outputs": [],
   "source": [
    "# The discrete Gaussian kernel is the default choice for spatial smoothing\n",
    "L = discscsp.computeNjetfcn(delta, 'L', 8)\n",
    "plt.imshow(-L, cmap='gray', interpolation='nearest')"
   ]
  },
  {
   "cell_type": "code",
   "execution_count": null,
   "metadata": {},
   "outputs": [],
   "source": [
    "# First-order discrete derivative approximation kernel in the x-direction\n",
    "Lx = discscsp.computeNjetfcn(delta, 'Lx', 8)\n",
    "plt.imshow(Lx, cmap='gray', interpolation='nearest')"
   ]
  },
  {
   "cell_type": "code",
   "execution_count": null,
   "metadata": {},
   "outputs": [],
   "source": [
    "# First-order discrete derivative approximation kernel in the y-direction\n",
    "Ly = discscsp.computeNjetfcn(delta, 'Ly', 8)\n",
    "plt.imshow(Ly, cmap='gray', interpolation='nearest')"
   ]
  },
  {
   "cell_type": "code",
   "execution_count": null,
   "metadata": {},
   "outputs": [],
   "source": [
    "# Second-order discrete derivative approximation kernel in the x-direction\n",
    "Lxx = discscsp.computeNjetfcn(delta, 'Lxx', 8)\n",
    "plt.imshow(Lxx, cmap='gray', interpolation='nearest')"
   ]
  },
  {
   "cell_type": "code",
   "execution_count": null,
   "metadata": {},
   "outputs": [],
   "source": [
    "# Mixed second-order discrete derivative approximation kernel in the x- and y-directions\n",
    "Lxy = discscsp.computeNjetfcn(delta, 'Lxy', 8)\n",
    "plt.imshow(Lxy, cmap='gray', interpolation='nearest')"
   ]
  },
  {
   "cell_type": "code",
   "execution_count": null,
   "metadata": {},
   "outputs": [],
   "source": [
    "# Second-order discrete derivative approximation kernel in the y-direction\n",
    "Lyy = discscsp.computeNjetfcn(delta, 'Lyy', 8)\n",
    "plt.imshow(Lyy, cmap='gray', interpolation='nearest')"
   ]
  },
  {
   "cell_type": "code",
   "execution_count": null,
   "metadata": {},
   "outputs": [],
   "source": [
    "# Read a colour image and convert to grey-levels for further testing purposes\n",
    "dala = discscsp.RGB2L(plt.imread('testimages/dalahast.jpg')/1)\n",
    "plt.imshow(dala, cmap='gray', interpolation='nearest')"
   ]
  },
  {
   "cell_type": "code",
   "execution_count": null,
   "metadata": {},
   "outputs": [],
   "source": [
    "# Discrete scale-space representation at scale 4\n",
    "L = discscsp.computeNjetfcn(dala, 'L', 4)\n",
    "plt.imshow(L, cmap='gray', interpolation='nearest')"
   ]
  },
  {
   "cell_type": "code",
   "execution_count": null,
   "metadata": {},
   "outputs": [],
   "source": [
    "# The first-order derivative in the x-direction at scale 4\n",
    "Lx = discscsp.computeNjetfcn(dala, 'Lx', 4)\n",
    "plt.imshow(Lx, cmap='gray', interpolation='nearest')"
   ]
  },
  {
   "cell_type": "code",
   "execution_count": null,
   "metadata": {},
   "outputs": [],
   "source": [
    "# The first-order derivative in the y-direction at scale 4\n",
    "Ly = discscsp.computeNjetfcn(dala, 'Ly', 4)\n",
    "plt.imshow(Ly, cmap='gray', interpolation='nearest')"
   ]
  },
  {
   "cell_type": "code",
   "execution_count": null,
   "metadata": {},
   "outputs": [],
   "source": [
    "# The Laplacian response at scale 8\n",
    "Laplace = discscsp.computeNjetfcn(dala, 'Laplace', 8)\n",
    "plt.imshow(Laplace, cmap='gray', interpolation='nearest')"
   ]
  },
  {
   "cell_type": "code",
   "execution_count": null,
   "metadata": {},
   "outputs": [],
   "source": [
    "# The determinant of the Hessian at scale 8\n",
    "detHessian = discscsp.computeNjetfcn(dala, 'detHessian', 8)\n",
    "plt.imshow(detHessian, cmap='gray', interpolation='nearest')"
   ]
  },
  {
   "cell_type": "code",
   "execution_count": null,
   "metadata": {},
   "outputs": [],
   "source": [
    "# The rescaled level curve curvature at scale 8\n",
    "Kappa = discscsp.computeNjetfcn(dala, 'Kappa', 8)\n",
    "plt.imshow(Kappa, cmap='gray', interpolation='nearest')"
   ]
  },
  {
   "cell_type": "code",
   "execution_count": null,
   "metadata": {},
   "outputs": [],
   "source": [
    "# The gradient magnitude at scale 4\n",
    "Lv = discscsp.computeNjetfcn(dala, 'Lv', 4)\n",
    "plt.imshow(-Lv, cmap='gray', interpolation='nearest')"
   ]
  },
  {
   "cell_type": "code",
   "execution_count": null,
   "metadata": {},
   "outputs": [],
   "source": [
    "# The second-order directional derivative in the gradient direction multiplied by the square gradient magnitude\n",
    "Lv2Lvv = discscsp.computeNjetfcn(dala, 'Lv2Lvv', 4)\n",
    "plt.imshow(Lv2Lvv > 0, cmap='gray', interpolation='nearest')\n",
    "# A subset of zero-crossings of this function are the differential edges at this scale"
   ]
  },
  {
   "cell_type": "code",
   "execution_count": null,
   "metadata": {},
   "outputs": [],
   "source": [
    "# The third-order directional derivative in the gradient direction multiplied by the gradient magnitude^3\n",
    "Lv3Lvvv = discscsp.computeNjetfcn(dala, 'Lv3Lvvv', 4)\n",
    "plt.imshow(Lv3Lvvv < 0, cmap='gray', interpolation='nearest')\n",
    "# The regions where this entity is negative constitute masks for the differential edges above"
   ]
  },
  {
   "cell_type": "code",
   "execution_count": null,
   "metadata": {},
   "outputs": [],
   "source": [
    "# The second-order directional derivative in the first principal curvature direction\n",
    "# (used for detecting bright ridges)\n",
    "Lpp = discscsp.computeNjetfcn(dala, 'Lpp', 16)\n",
    "plt.imshow(Lpp, cmap='gray', interpolation='nearest')"
   ]
  },
  {
   "cell_type": "code",
   "execution_count": null,
   "metadata": {},
   "outputs": [],
   "source": [
    "# The second-order directional derivative in the second principal curvature direction\n",
    "# (used for detecting dark valleys)\n",
    "Lqq = discscsp.computeNjetfcn(dala, 'Lqq', 16)\n",
    "plt.imshow(Lqq, cmap='gray', interpolation='nearest')"
   ]
  },
  {
   "cell_type": "code",
   "execution_count": null,
   "metadata": {},
   "outputs": [],
   "source": [
    "# Generate a discrete delta function for testing the variances of\n",
    "# of the impulse responses for the different types of discrete\n",
    "# approximations of the Gaussian smoothing operation\n",
    "#\n",
    "# Note that the variance of the impulse responses should ideally\n",
    "# be equal to the square of the sigma value (the standard deviation)\n",
    "delta255 = discscsp.deltafcn(255,255)"
   ]
  },
  {
   "cell_type": "code",
   "execution_count": null,
   "metadata": {},
   "outputs": [],
   "source": [
    "# The discrete Gaussian kernel gives the correct variance for all scales, up to numerical errors\n",
    "discscsp.variance(discscsp.scspconv(delta255, 1/3, 'discgauss'))"
   ]
  },
  {
   "cell_type": "code",
   "execution_count": null,
   "metadata": {},
   "outputs": [],
   "source": [
    "discscsp.variance(discscsp.scspconv(delta255, 1, 'discgauss'))"
   ]
  },
  {
   "cell_type": "code",
   "execution_count": null,
   "metadata": {},
   "outputs": [],
   "source": [
    "discscsp.variance(discscsp.scspconv(delta255, 10, 'discgauss'))"
   ]
  },
  {
   "cell_type": "code",
   "execution_count": null,
   "metadata": {},
   "outputs": [],
   "source": [
    "# The sampled Gaussian gives too small variances at fine scales, while\n",
    "# quite reasonable variances at coarser scales\n",
    "discscsp.variance(discscsp.scspconv(delta255, 1/3, 'normsamplgauss'))"
   ]
  },
  {
   "cell_type": "code",
   "execution_count": null,
   "metadata": {},
   "outputs": [],
   "source": [
    "discscsp.variance(discscsp.scspconv(delta255, 1, 'normsamplgauss'))"
   ]
  },
  {
   "cell_type": "code",
   "execution_count": null,
   "metadata": {},
   "outputs": [],
   "source": [
    "discscsp.variance(discscsp.scspconv(delta255, 10, 'normsamplgauss'))"
   ]
  },
  {
   "cell_type": "code",
   "execution_count": null,
   "metadata": {},
   "outputs": [],
   "source": [
    "# The integrated Gaussian kernel gives somewhat better variances than the\n",
    "# sampled Gaussian kernel at finer scales, but adds an offset at coarser scales\n",
    "discscsp.variance(discscsp.scspconv(delta255, 1/3, 'intgauss'))"
   ]
  },
  {
   "cell_type": "code",
   "execution_count": null,
   "metadata": {},
   "outputs": [],
   "source": [
    "discscsp.variance(discscsp.scspconv(delta255, 1, 'intgauss'))"
   ]
  },
  {
   "cell_type": "code",
   "execution_count": null,
   "metadata": {},
   "outputs": [],
   "source": [
    "discscsp.variance(discscsp.scspconv(delta255, 10, 'intgauss'))"
   ]
  },
  {
   "cell_type": "code",
   "execution_count": null,
   "metadata": {},
   "outputs": [],
   "source": [
    "coldala = plt.imread('testimages/dalahast.jpg')\n",
    "plt.imshow(coldala)"
   ]
  },
  {
   "cell_type": "code",
   "execution_count": null,
   "metadata": {},
   "outputs": [],
   "source": [
    "# The scale-space smoothing operation works also for colour images\n",
    "smoothpic = discscsp.scspconv(coldala, 4)\n",
    "plt.imshow(smoothpic/255)"
   ]
  },
  {
   "cell_type": "code",
   "execution_count": null,
   "metadata": {},
   "outputs": [],
   "source": [
    "# Some of the Njet-functions are also meaningful to compute from colour images,\n",
    "# although their visualization may be less immediate\n",
    "colLx = discscsp.computeNjetfcn(coldala, 'Lx', 4)\n",
    "plt.imshow(colLx/255)"
   ]
  },
  {
   "cell_type": "code",
   "execution_count": null,
   "metadata": {},
   "outputs": [],
   "source": [
    "# Computing colour-opponent receptive field responses, corresponding to double-opponent receptive fields\n",
    "coloppLaplace = discscsp.computeNjetfcn(discscsp.RGB2LUV(coldala), 'Laplace', 16)\n",
    "plt.imshow(coloppLaplace/255)"
   ]
  },
  {
   "cell_type": "code",
   "execution_count": null,
   "metadata": {},
   "outputs": [],
   "source": [
    "# First-order directional derivative in the direction pi/6\n",
    "delta = discscsp.deltafcn(65,65)\n",
    "L = discscsp.scspconv(delta, 8)\n",
    "Lphi = discscsp.applydirder(L, math.pi/6, 1, 0)\n",
    "plt.imshow(Lphi, cmap='gray', interpolation='nearest')"
   ]
  },
  {
   "cell_type": "code",
   "execution_count": null,
   "metadata": {},
   "outputs": [],
   "source": [
    "# Second-order directional derivative in the direction pi/6\n",
    "delta = discscsp.deltafcn(65,65)\n",
    "L = discscsp.scspconv(delta, 8)\n",
    "Lphi = discscsp.applydirder(L, math.pi/6, 2, 0)\n",
    "plt.imshow(Lphi, cmap='gray', interpolation='nearest')"
   ]
  },
  {
   "cell_type": "code",
   "execution_count": null,
   "metadata": {},
   "outputs": [],
   "source": [
    "# Third-order directional derivative in the direction pi/6\n",
    "delta = discscsp.deltafcn(65,65)\n",
    "L = discscsp.scspconv(delta, 8)\n",
    "Lphi = discscsp.applydirder(L, math.pi/6, 3, 0)\n",
    "plt.imshow(Lphi, cmap='gray', interpolation='nearest')"
   ]
  },
  {
   "cell_type": "code",
   "execution_count": null,
   "metadata": {},
   "outputs": [],
   "source": [
    "# Fourth-order directional derivative in the direction pi/6\n",
    "delta = discscsp.deltafcn(65,65)\n",
    "L = discscsp.scspconv(delta, 8)\n",
    "Lphi = discscsp.applydirder(L, math.pi/6, 4, 0)\n",
    "plt.imshow(Lphi, cmap='gray', interpolation='nearest')"
   ]
  },
  {
   "cell_type": "code",
   "execution_count": null,
   "metadata": {},
   "outputs": [],
   "source": [
    "# Mixed second-order directional derivative in the directions \n",
    "# parallel and orthogonal to pi/6\n",
    "delta = discscsp.deltafcn(65,65)\n",
    "L = discscsp.scspconv(delta, 8)\n",
    "Lphiorth = discscsp.applydirder(L, math.pi/6, 1, 1)\n",
    "plt.imshow(Lphiorth, cmap='gray', interpolation='nearest')"
   ]
  },
  {
   "cell_type": "code",
   "execution_count": null,
   "metadata": {},
   "outputs": [],
   "source": [
    "# Mixed third-order directional derivative, corresponding to a second-order\n",
    "# directional derivative the direction pi/6, and a first-order directional \n",
    "# derivative in the orthogonal direction\n",
    "delta = discscsp.deltafcn(65,65)\n",
    "L = discscsp.scspconv(delta, 8)\n",
    "Lphiphiorth = discscsp.applydirder(L, math.pi/6, 2, 1)\n",
    "plt.imshow(Lphiphiorth, cmap='gray', interpolation='nearest')"
   ]
  },
  {
   "cell_type": "code",
   "execution_count": null,
   "metadata": {},
   "outputs": [],
   "source": [
    "# Mixed third-order directional derivative, corresponding to a first-order\n",
    "# directional derivative the direction pi/6, and a second-order directional \n",
    "# derivative in the orthogonal direction\n",
    "delta = discscsp.deltafcn(65,65)\n",
    "L = discscsp.scspconv(delta, 8)\n",
    "Lphiorthorth = discscsp.applydirder(L, math.pi/6, 1, 2)\n",
    "plt.imshow(Lphiorthorth, cmap='gray', interpolation='nearest')"
   ]
  },
  {
   "cell_type": "code",
   "execution_count": null,
   "metadata": {},
   "outputs": [],
   "source": [
    "# Mixed fourth-order directional derivative, corresponding to a third-order\n",
    "# directional derivative the direction pi/6, and a first-order directional \n",
    "# derivative in the orthogonal direction\n",
    "delta = discscsp.deltafcn(65,65)\n",
    "L = discscsp.scspconv(delta, 8)\n",
    "Lphiphiphiorth = discscsp.applydirder(L, math.pi/6, 3, 1)\n",
    "plt.imshow(Lphiphiphiorth, cmap='gray', interpolation='nearest')"
   ]
  },
  {
   "cell_type": "code",
   "execution_count": null,
   "metadata": {},
   "outputs": [],
   "source": [
    "# Mixed fourth-order directional derivative, corresponding to a second-order\n",
    "# directional derivative the direction pi/6, and a second-order directional \n",
    "# derivative in the orthogonal direction\n",
    "delta = discscsp.deltafcn(65,65)\n",
    "L = discscsp.scspconv(delta, 8)\n",
    "Lphiphiorthorth = discscsp.applydirder(L, math.pi/6, 2, 2)\n",
    "plt.imshow(Lphiphiorthorth, cmap='gray', interpolation='nearest')"
   ]
  },
  {
   "cell_type": "code",
   "execution_count": null,
   "metadata": {},
   "outputs": [],
   "source": []
  }
 ],
 "metadata": {
  "kernelspec": {
   "display_name": "Python 3 (ipykernel)",
   "language": "python",
   "name": "python3"
  },
  "language_info": {
   "codemirror_mode": {
    "name": "ipython",
    "version": 3
   },
   "file_extension": ".py",
   "mimetype": "text/x-python",
   "name": "python",
   "nbconvert_exporter": "python",
   "pygments_lexer": "ipython3",
   "version": "3.11.5"
  }
 },
 "nbformat": 4,
 "nbformat_minor": 2
}
