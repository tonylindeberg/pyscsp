{
 "cells": [
  {
   "cell_type": "code",
   "execution_count": 12,
   "id": "5b4c62f8",
   "metadata": {},
   "outputs": [],
   "source": [
    "import math\n",
    "import numpy as np\n",
    "import torch, torchscsp, affscsp\n",
    "from importlib import reload"
   ]
  },
  {
   "cell_type": "code",
   "execution_count": 13,
   "id": "ef8395c7",
   "metadata": {},
   "outputs": [
    {
     "data": {
      "text/plain": [
       "<module 'torchscsp' from '/Users/tony/Work/python/pyscsp/torchscsp.py'>"
      ]
     },
     "execution_count": 13,
     "metadata": {},
     "output_type": "execute_result"
    }
   ],
   "source": [
    "reload(torchscsp)"
   ]
  },
  {
   "cell_type": "code",
   "execution_count": 3,
   "id": "46dde00b",
   "metadata": {},
   "outputs": [],
   "source": [
    "from importlib import reload"
   ]
  },
  {
   "cell_type": "code",
   "execution_count": 26,
   "id": "057efd4a",
   "metadata": {},
   "outputs": [
    {
     "data": {
      "text/plain": [
       "tensor([[1.9872e-29, 9.0033e-29, 3.9690e-28,  ..., 3.3391e-11, 2.7766e-11,\n",
       "         2.2466e-11],\n",
       "        [1.8838e-28, 8.3632e-28, 3.6127e-27,  ..., 8.9925e-11, 7.3275e-11,\n",
       "         5.8097e-11],\n",
       "        [1.6973e-27, 7.3839e-27, 3.1256e-26,  ..., 2.3018e-10, 1.8380e-10,\n",
       "         1.4280e-10],\n",
       "        ...,\n",
       "        [1.4280e-10, 1.8380e-10, 2.3018e-10,  ..., 3.1256e-26, 7.3839e-27,\n",
       "         1.6973e-27],\n",
       "        [5.8097e-11, 7.3275e-11, 8.9925e-11,  ..., 3.6127e-27, 8.3632e-28,\n",
       "         1.8838e-28],\n",
       "        [2.2466e-11, 2.7766e-11, 3.3391e-11,  ..., 3.9690e-28, 9.0033e-29,\n",
       "         1.9872e-29]], dtype=torch.float64)"
      ]
     },
     "execution_count": 26,
     "metadata": {},
     "output_type": "execute_result"
    }
   ],
   "source": [
    "torchscsp.makesamplaffgausskernel(8, 4, math.pi/6, 32)"
   ]
  },
  {
   "cell_type": "code",
   "execution_count": 22,
   "id": "85478ac1",
   "metadata": {},
   "outputs": [
    {
     "data": {
      "text/plain": [
       "tensor([[ 0.0000,  2.0000,  0.0000],\n",
       "        [-3.4641,  0.0000,  3.4641],\n",
       "        [ 0.0000, -2.0000,  0.0000]], dtype=torch.float64)"
      ]
     },
     "execution_count": 22,
     "metadata": {},
     "output_type": "execute_result"
    }
   ],
   "source": [
    "torchscsp.makescnormdirdermask(8, 4, math.pi/6, 1, 0)"
   ]
  },
  {
   "cell_type": "code",
   "execution_count": 20,
   "id": "f0b72b62",
   "metadata": {},
   "outputs": [
    {
     "data": {
      "text/plain": [
       "tensor([[ 0.0000,  2.5066,  0.0000],\n",
       "        [-4.3416,  0.0000,  4.3416],\n",
       "        [ 0.0000, -2.5066,  0.0000]], dtype=torch.float64)"
      ]
     },
     "execution_count": 20,
     "metadata": {},
     "output_type": "execute_result"
    }
   ],
   "source": [
    "torchscsp.makeL1normdirdermask(8, 4, math.pi/6, 1, 0)"
   ]
  },
  {
   "cell_type": "code",
   "execution_count": 23,
   "id": "7b78a0a6",
   "metadata": {},
   "outputs": [
    {
     "data": {
      "text/plain": [
       "tensor([[ -13.8564,   16.0000,   13.8564],\n",
       "        [  48.0000, -128.0000,   48.0000],\n",
       "        [  13.8564,   16.0000,  -13.8564]], dtype=torch.float64)"
      ]
     },
     "execution_count": 23,
     "metadata": {},
     "output_type": "execute_result"
    }
   ],
   "source": [
    "torchscsp.makescnormdirdermask(8, 4, math.pi/6, 2, 0)"
   ]
  },
  {
   "cell_type": "code",
   "execution_count": 24,
   "id": "46dcf11a",
   "metadata": {},
   "outputs": [
    {
     "data": {
      "text/plain": [
       "tensor([[ -14.3162,   16.5309,   14.3162],\n",
       "        [  49.5928, -132.2474,   49.5928],\n",
       "        [  14.3162,   16.5309,  -14.3162]], dtype=torch.float64)"
      ]
     },
     "execution_count": 24,
     "metadata": {},
     "output_type": "execute_result"
    }
   ],
   "source": [
    "torchscsp.makeL1normdirdermask(8, 4, math.pi/6, 2, 0)"
   ]
  },
  {
   "cell_type": "code",
   "execution_count": 27,
   "id": "5cbfd61a",
   "metadata": {},
   "outputs": [],
   "source": [
    "gauss84_30 = torchscsp.makesamplaffgausskernel(8, 4, math.pi/6, 32)"
   ]
  },
  {
   "cell_type": "code",
   "execution_count": 28,
   "id": "0cec79bc",
   "metadata": {},
   "outputs": [],
   "source": [
    "scnormmask_phi = torchscsp.makescnormdirdermask(8, 4, math.pi/6, 1, 0)"
   ]
  },
  {
   "cell_type": "code",
   "execution_count": 29,
   "id": "7ec6cbd6",
   "metadata": {},
   "outputs": [],
   "source": [
    "L1normmask_phi = torchscsp.makeL1normdirdermask(8, 4, math.pi/6, 1, 0)"
   ]
  },
  {
   "cell_type": "code",
   "execution_count": null,
   "id": "4ad3854f",
   "metadata": {},
   "outputs": [],
   "source": []
  }
 ],
 "metadata": {
  "kernelspec": {
   "display_name": "Python 3 (ipykernel)",
   "language": "python",
   "name": "python3"
  },
  "language_info": {
   "codemirror_mode": {
    "name": "ipython",
    "version": 3
   },
   "file_extension": ".py",
   "mimetype": "text/x-python",
   "name": "python",
   "nbconvert_exporter": "python",
   "pygments_lexer": "ipython3",
   "version": "3.11.5"
  }
 },
 "nbformat": 4,
 "nbformat_minor": 5
}
