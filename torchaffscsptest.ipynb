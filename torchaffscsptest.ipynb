{
 "cells": [
  {
   "cell_type": "code",
   "execution_count": 1,
   "id": "5a5ced6d",
   "metadata": {},
   "outputs": [],
   "source": [
    "import math\n",
    "import numpy as np\n",
    "import torch, pyscsp\n",
    "import pyscsp.torchscsp as torchscsp\n",
    "from importlib import reload"
   ]
  },
  {
   "cell_type": "code",
   "execution_count": 2,
   "id": "81e5ca80",
   "metadata": {},
   "outputs": [
    {
     "data": {
      "text/plain": [
       "<module 'pyscsp.torchscsp' from '/Users/tony/Work/GitHub.com-mirror/pyscsp/pyscsp/torchscsp.py'>"
      ]
     },
     "execution_count": 2,
     "metadata": {},
     "output_type": "execute_result"
    }
   ],
   "source": [
    "reload(pyscsp.torchscsp)"
   ]
  },
  {
   "cell_type": "code",
   "execution_count": 3,
   "id": "19ba2e1c",
   "metadata": {},
   "outputs": [],
   "source": [
    "from importlib import reload"
   ]
  },
  {
   "cell_type": "code",
   "execution_count": 4,
   "id": "3b557667",
   "metadata": {},
   "outputs": [
    {
     "data": {
      "text/plain": [
       "tensor([[1.9872e-29, 9.0033e-29, 3.9690e-28,  ..., 3.3391e-11, 2.7766e-11,\n",
       "         2.2466e-11],\n",
       "        [1.8838e-28, 8.3632e-28, 3.6127e-27,  ..., 8.9925e-11, 7.3275e-11,\n",
       "         5.8097e-11],\n",
       "        [1.6973e-27, 7.3839e-27, 3.1256e-26,  ..., 2.3018e-10, 1.8380e-10,\n",
       "         1.4280e-10],\n",
       "        ...,\n",
       "        [1.4280e-10, 1.8380e-10, 2.3018e-10,  ..., 3.1256e-26, 7.3839e-27,\n",
       "         1.6973e-27],\n",
       "        [5.8097e-11, 7.3275e-11, 8.9925e-11,  ..., 3.6127e-27, 8.3632e-28,\n",
       "         1.8838e-28],\n",
       "        [2.2466e-11, 2.7766e-11, 3.3391e-11,  ..., 3.9690e-28, 9.0033e-29,\n",
       "         1.9872e-29]])"
      ]
     },
     "execution_count": 4,
     "metadata": {},
     "output_type": "execute_result"
    }
   ],
   "source": [
    "torchscsp.makesamplaffgausskernel(8, 4, math.pi/6, 32)"
   ]
  },
  {
   "cell_type": "code",
   "execution_count": 5,
   "id": "01c38765",
   "metadata": {},
   "outputs": [
    {
     "data": {
      "text/plain": [
       "tensor([[ 0.0000,  2.0000,  0.0000],\n",
       "        [-3.4641,  0.0000,  3.4641],\n",
       "        [ 0.0000, -2.0000,  0.0000]])"
      ]
     },
     "execution_count": 5,
     "metadata": {},
     "output_type": "execute_result"
    }
   ],
   "source": [
    "torchscsp.makescnormaffdirdermask(8, 4, math.pi/6, 1, 0)"
   ]
  },
  {
   "cell_type": "code",
   "execution_count": 6,
   "id": "42bf3cd8",
   "metadata": {},
   "outputs": [
    {
     "data": {
      "text/plain": [
       "tensor([[ 0.0000,  2.5066,  0.0000],\n",
       "        [-4.3416,  0.0000,  4.3416],\n",
       "        [ 0.0000, -2.5066,  0.0000]])"
      ]
     },
     "execution_count": 6,
     "metadata": {},
     "output_type": "execute_result"
    }
   ],
   "source": [
    "torchscsp.makeL1normaffdirdermask(8, 4, math.pi/6, 1, 0)"
   ]
  },
  {
   "cell_type": "code",
   "execution_count": 7,
   "id": "7802d500",
   "metadata": {},
   "outputs": [
    {
     "data": {
      "text/plain": [
       "tensor([[ -13.8564,   16.0000,   13.8564],\n",
       "        [  48.0000, -128.0000,   48.0000],\n",
       "        [  13.8564,   16.0000,  -13.8564]])"
      ]
     },
     "execution_count": 7,
     "metadata": {},
     "output_type": "execute_result"
    }
   ],
   "source": [
    "torchscsp.makescnormaffdirdermask(8, 4, math.pi/6, 2, 0)"
   ]
  },
  {
   "cell_type": "code",
   "execution_count": 8,
   "id": "6981095e",
   "metadata": {},
   "outputs": [
    {
     "data": {
      "text/plain": [
       "tensor([[ -14.3162,   16.5309,   14.3162],\n",
       "        [  49.5928, -132.2474,   49.5928],\n",
       "        [  14.3162,   16.5309,  -14.3162]])"
      ]
     },
     "execution_count": 8,
     "metadata": {},
     "output_type": "execute_result"
    }
   ],
   "source": [
    "torchscsp.makeL1normaffdirdermask(8, 4, math.pi/6, 2, 0)"
   ]
  },
  {
   "cell_type": "code",
   "execution_count": 9,
   "id": "b34247e3",
   "metadata": {},
   "outputs": [],
   "source": [
    "gauss84_30 = torchscsp.makesamplaffgausskernel(8, 4, math.pi/6, 32)"
   ]
  },
  {
   "cell_type": "code",
   "execution_count": 10,
   "id": "4b1ec9ea",
   "metadata": {},
   "outputs": [],
   "source": [
    "scnormmask_phi = torchscsp.makescnormaffdirdermask(8, 4, math.pi/6, 1, 0)"
   ]
  },
  {
   "cell_type": "code",
   "execution_count": 11,
   "id": "df0c11ca",
   "metadata": {},
   "outputs": [],
   "source": [
    "L1normmask_phi = torchscsp.makeL1normaffdirdermask(8, 4, math.pi/6, 1, 0)"
   ]
  },
  {
   "cell_type": "code",
   "execution_count": null,
   "id": "d4abc482",
   "metadata": {},
   "outputs": [],
   "source": []
  }
 ],
 "metadata": {
  "kernelspec": {
   "display_name": "Python 3 (ipykernel)",
   "language": "python",
   "name": "python3"
  },
  "language_info": {
   "codemirror_mode": {
    "name": "ipython",
    "version": 3
   },
   "file_extension": ".py",
   "mimetype": "text/x-python",
   "name": "python",
   "nbconvert_exporter": "python",
   "pygments_lexer": "ipython3",
   "version": "3.11.5"
  }
 },
 "nbformat": 4,
 "nbformat_minor": 5
}
